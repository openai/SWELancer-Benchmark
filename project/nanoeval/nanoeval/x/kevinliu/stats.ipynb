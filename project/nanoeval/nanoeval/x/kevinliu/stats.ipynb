{
 "cells": [
  {
   "cell_type": "code",
   "execution_count": 1,
   "id": "initial_id",
   "metadata": {
    "ExecuteTime": {
     "end_time": "2024-09-17T06:30:11.451566Z",
     "start_time": "2024-09-17T06:30:11.428565Z"
    },
    "collapsed": true
   },
   "outputs": [],
   "source": [
    "%load_ext autoreload\n",
    "%autoreload 2"
   ]
  },
  {
   "cell_type": "code",
   "execution_count": 130,
   "id": "30035857d3ebfe3e",
   "metadata": {
    "ExecuteTime": {
     "end_time": "2024-09-17T18:57:02.156123Z",
     "start_time": "2024-09-17T18:56:24.262386Z"
    }
   },
   "outputs": [
    {
     "name": "stderr",
     "output_type": "stream",
     "text": [
      "Bootstrap (<function pass_at_k at 0x17b885c60>@1): 100%|██████████| 1000/1000 [00:36<00:00, 27.16it/s]"
     ]
    },
    {
     "name": "stdout",
     "output_type": "stream",
     "text": [
      "{2.5: 0.488, 16: 0.504, 50: 0.52, 84: 0.536, 97.5: 0.552}\n"
     ]
    },
    {
     "name": "stderr",
     "output_type": "stream",
     "text": [
      "\n"
     ]
    }
   ],
   "source": [
    "from nanoeval.metrics.standard import _bootstrap_distribution, pass_at_k\n",
    "import pandas as pd\n",
    "import numpy as np\n",
    "\n",
    "# Assuming the _bootstrap_distribution function is already defined as in previous responses.\n",
    "\n",
    "# Step 1: Define the list of instances\n",
    "base_instances = ['a', 'b', 'c', 'd', 'e']\n",
    "# Create 25 variants of each base instance\n",
    "instances = [f'{inst}_{i}' for inst in base_instances for i in range(25)]\n",
    "\n",
    "# Initialize lists to hold data for samples_df and answer_group_correctness_df\n",
    "samples_data = []\n",
    "answer_group_correctness_data = []\n",
    "\n",
    "# Set the number of attempts per instance and number of answer groups per instance\n",
    "num_attempts_per_instance = 100\n",
    "num_answer_groups_per_instance = 10\n",
    "\n",
    "# Step 2 to 4: Iterate over each instance to generate attempts and answer groups\n",
    "for instance_name in instances:\n",
    "    # Step 2: Sample a pass rate for the instance\n",
    "    # Using a bimodal beta distribution as in the original code\n",
    "    if np.random.rand() > 0.5:\n",
    "        pass_rate = np.random.beta(1000, 10)\n",
    "    else:\n",
    "        pass_rate = np.random.beta(10, 1000)\n",
    "    \n",
    "    # Step 3: Generate correctness for each attempt based on the pass rate\n",
    "    successes = np.random.binomial(1, pass_rate, size=num_attempts_per_instance)\n",
    "    \n",
    "    # Step 4: Assign each attempt to an answer group\n",
    "    # We'll assign attempts to answer groups in a round-robin fashion\n",
    "    for attempt_index in range(num_attempts_per_instance):\n",
    "        answer_group_id = f'answer_group_{attempt_index % num_answer_groups_per_instance}'\n",
    "        attempt_name = f'attempt_{attempt_index + 1}'\n",
    "        is_correct = bool(successes[attempt_index])\n",
    "        \n",
    "        # Append attempt data to samples_data\n",
    "        samples_data.append({\n",
    "            'instance': instance_name,\n",
    "            'attempt': attempt_name,\n",
    "            'answer_group_id': answer_group_id\n",
    "        })\n",
    "        \n",
    "        # Store correctness information temporarily in a dict to process later\n",
    "        # We'll create a key based on instance and answer_group_id\n",
    "        key = (instance_name, answer_group_id)\n",
    "        if key not in answer_group_correctness_data:\n",
    "            # Initialize with False; will update to True if any attempt is correct\n",
    "            answer_group_correctness_data.append({\n",
    "                'instance': instance_name,\n",
    "                'answer_group_id': answer_group_id,\n",
    "                'is_correct': is_correct\n",
    "            })\n",
    "        else:\n",
    "            # If any attempt in the group is correct, set is_correct to True\n",
    "            if is_correct:\n",
    "                # Find the existing entry and set is_correct to True\n",
    "                for entry in answer_group_correctness_data:\n",
    "                    if entry['instance'] == instance_name and entry['answer_group_id'] == answer_group_id:\n",
    "                        entry['is_correct'] = True\n",
    "                        break\n",
    "\n",
    "# Convert lists to DataFrames\n",
    "samples_df = pd.DataFrame(samples_data)\n",
    "answer_group_correctness_df = pd.DataFrame(answer_group_correctness_data)\n",
    "\n",
    "# Step 7: Call the _bootstrap_distribution function\n",
    "# We'll set k=1 and n_trials=1000 as in the original example\n",
    "bootstrap_results = _bootstrap_distribution(\n",
    "    samples_df=samples_df,\n",
    "    answer_group_correctness_df=answer_group_correctness_df,\n",
    "    metric_fn=pass_at_k,\n",
    "    k=1,\n",
    "    n_trials=1000,\n",
    "    bootstrap_over_instances=False  # or True, depending on the desired behavior\n",
    ")\n",
    "\n",
    "# Print the bootstrap results\n",
    "print(bootstrap_results)"
   ]
  },
  {
   "cell_type": "code",
   "execution_count": 102,
   "id": "9d1e3cd4cbd57aa7",
   "metadata": {
    "ExecuteTime": {
     "end_time": "2024-09-17T17:03:52.305210Z",
     "start_time": "2024-09-17T17:03:52.251434Z"
    }
   },
   "outputs": [
    {
     "name": "stdout",
     "output_type": "stream",
     "text": [
      "Unique values in 'samples_df['answer_group_id']': ['answer_group_0' 'answer_group_1' 'answer_group_2' 'answer_group_3'\n",
      " 'answer_group_4' 'answer_group_5' 'answer_group_6' 'answer_group_7'\n",
      " 'answer_group_8' 'answer_group_9']\n",
      "Unique values in 'answer_group_correctness_df['answer_group_id']': ['answer_group_0' 'answer_group_1' 'answer_group_2' 'answer_group_3'\n",
      " 'answer_group_4' 'answer_group_5' 'answer_group_6' 'answer_group_7'\n",
      " 'answer_group_8' 'answer_group_9']\n",
      "Types in 'samples_df['answer_group_id']': [<class 'str'>]\n",
      "Types in 'answer_group_correctness_df['answer_group_id']': [<class 'str'>]\n",
      "Post-conversion types in 'samples_df['answer_group_id']': [<class 'str'>]\n",
      "Post-conversion types in 'answer_group_correctness_df['answer_group_id']': [<class 'str'>]\n",
      "Merge successful. Merged DataFrame info:\n",
      "<class 'pandas.core.frame.DataFrame'>\n",
      "RangeIndex: 125000 entries, 0 to 124999\n",
      "Data columns (total 4 columns):\n",
      " #   Column           Non-Null Count   Dtype \n",
      "---  ------           --------------   ----- \n",
      " 0   instance         125000 non-null  object\n",
      " 1   attempt          125000 non-null  object\n",
      " 2   answer_group_id  125000 non-null  object\n",
      " 3   is_correct       125000 non-null  bool  \n",
      "dtypes: bool(1), object(3)\n",
      "memory usage: 3.0+ MB\n",
      "None\n"
     ]
    }
   ],
   "source": [
    "import pandas as pd\n",
    "\n",
    "# Assuming samples_df and answer_group_correctness_df are already defined\n",
    "\n",
    "# Step 1: Inspect unique values\n",
    "print(\"Unique values in 'samples_df['answer_group_id']':\", samples_df['answer_group_id'].unique())\n",
    "print(\"Unique values in 'answer_group_correctness_df['answer_group_id']':\", answer_group_correctness_df['answer_group_id'].unique())\n",
    "\n",
    "# Step 2: Check underlying types\n",
    "print(\"Types in 'samples_df['answer_group_id']':\", samples_df['answer_group_id'].apply(type).unique())\n",
    "print(\"Types in 'answer_group_correctness_df['answer_group_id']':\", answer_group_correctness_df['answer_group_id'].apply(type).unique())\n",
    "\n",
    "# Step 3: Standardize data types to strings\n",
    "samples_df['answer_group_id'] = samples_df['answer_group_id'].astype(str)\n",
    "answer_group_correctness_df['answer_group_id'] = answer_group_correctness_df['answer_group_id'].astype(str)\n",
    "\n",
    "# Step 4: Verify consistency\n",
    "print(\"Post-conversion types in 'samples_df['answer_group_id']':\", samples_df['answer_group_id'].apply(type).unique())\n",
    "print(\"Post-conversion types in 'answer_group_correctness_df['answer_group_id']':\", answer_group_correctness_df['answer_group_id'].apply(type).unique())\n",
    "\n",
    "# Step 5: Perform merge\n",
    "merged_df = pd.merge(\n",
    "    samples_df,\n",
    "    answer_group_correctness_df,\n",
    "    on=['instance', 'answer_group_id'],\n",
    "    how='left'\n",
    ")\n",
    "\n",
    "print(\"Merge successful. Merged DataFrame info:\")\n",
    "print(merged_df.info())"
   ]
  }
 ],
 "metadata": {
  "kernelspec": {
   "display_name": "Python 3",
   "language": "python",
   "name": "python3"
  },
  "language_info": {
   "codemirror_mode": {
    "name": "ipython",
    "version": 2
   },
   "file_extension": ".py",
   "mimetype": "text/x-python",
   "name": "python",
   "nbconvert_exporter": "python",
   "pygments_lexer": "ipython2",
   "version": "2.7.6"
  }
 },
 "nbformat": 4,
 "nbformat_minor": 5
}
